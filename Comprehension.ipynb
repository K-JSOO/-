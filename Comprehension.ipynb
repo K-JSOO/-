{
 "cells": [
  {
   "cell_type": "markdown",
   "metadata": {},
   "source": [
    "# list comprehension\n"
   ]
  },
  {
   "cell_type": "code",
   "execution_count": 3,
   "metadata": {},
   "outputs": [
    {
     "name": "stdout",
     "output_type": "stream",
     "text": [
      "[0, 1, 2, 3, 4, 5, 6, 7, 8, 9, 10]\n"
     ]
    }
   ],
   "source": [
    "# 예제1\n",
    "\n",
    "li_t1=[]\n",
    "for i in range(11):\n",
    "    li_t1.append(i)\n",
    "print(li_t1)"
   ]
  },
  {
   "cell_type": "code",
   "execution_count": 1,
   "metadata": {},
   "outputs": [
    {
     "name": "stdout",
     "output_type": "stream",
     "text": [
      "[0, 1, 2, 3, 4, 5, 6, 7, 8, 9, 10]\n"
     ]
    }
   ],
   "source": [
    "# 예제1 comprehension\n",
    "\n",
    "com_t1=[i for i in range(11)]\n",
    "print(com_t1)"
   ]
  },
  {
   "cell_type": "code",
   "execution_count": 4,
   "metadata": {},
   "outputs": [
    {
     "name": "stdout",
     "output_type": "stream",
     "text": [
      "[0, 3, 6, 9, 12, 15, 18, 21, 24, 27, 30]\n"
     ]
    }
   ],
   "source": [
    "# 예제2\n",
    "\n",
    "li_t2=[]\n",
    "for i in range(11):\n",
    "    li_t2.append(i*3)\n",
    "print(li_t2)"
   ]
  },
  {
   "cell_type": "code",
   "execution_count": 5,
   "metadata": {},
   "outputs": [
    {
     "name": "stdout",
     "output_type": "stream",
     "text": [
      "[0, 3, 6, 9, 12, 15, 18, 21, 24, 27, 30]\n"
     ]
    }
   ],
   "source": [
    "# 예제2 comprehension\n",
    "\n",
    "com_t2=[i*3 for i in range(11)]\n",
    "print(com_t2)"
   ]
  },
  {
   "cell_type": "code",
   "execution_count": 7,
   "metadata": {},
   "outputs": [
    {
     "name": "stdout",
     "output_type": "stream",
     "text": [
      "[0, 2, 4, 6, 8, 10]\n"
     ]
    }
   ],
   "source": [
    "# 예제3 if문 사용\n",
    "\n",
    "li_t3=[]\n",
    "for i in range(11):\n",
    "    if i%2==0:\n",
    "       li_t3.append(i)\n",
    "print(li_t3)"
   ]
  },
  {
   "cell_type": "code",
   "execution_count": 9,
   "metadata": {},
   "outputs": [
    {
     "name": "stdout",
     "output_type": "stream",
     "text": [
      "[0, 2, 4, 6, 8, 10]\n"
     ]
    }
   ],
   "source": [
    "# 예제3 if문이 포함된 comprehension\n",
    "\n",
    "com_t3=[i for i in range(11) if i%2==0]\n",
    "print(com_t3)"
   ]
  },
  {
   "cell_type": "code",
   "execution_count": 12,
   "metadata": {},
   "outputs": [
    {
     "name": "stdout",
     "output_type": "stream",
     "text": [
      "[0, 6, 12, 18]\n",
      "[0, 2, 3, 4, 6, 8, 9, 10, 12, 14, 15, 16, 18]\n"
     ]
    }
   ],
   "source": [
    "# 예제4 and, or로 연결된 if문\n",
    "\n",
    "li_t4_1=[]\n",
    "for i in range(20):\n",
    "    if i%2==0 and i%3==0:\n",
    "        li_t4_1.append(i)\n",
    "print(li_t4_1)\n",
    "\n",
    "li_t4_2=[]\n",
    "for j in range(20):\n",
    "    if j%2==0 or j%3==0:\n",
    "        li_t4_2.append(j)\n",
    "print(li_t4_2)"
   ]
  },
  {
   "cell_type": "code",
   "execution_count": 22,
   "metadata": {},
   "outputs": [
    {
     "name": "stdout",
     "output_type": "stream",
     "text": [
      "and :  [0, 6, 12, 18]\n",
      "and :  [0, 6, 12, 18]\n",
      "or :  [0, 2, 3, 4, 6, 8, 9, 10, 12, 14, 15, 16, 18]\n"
     ]
    }
   ],
   "source": [
    "# 예제4 and, or로 연결된 if문 comprehension\n",
    "\n",
    "com_t4_1=[i for i in range(20) if i%2==0 if i%3==0] \n",
    "print('and : ',com_t4_1)\n",
    "\n",
    "# 두번째 if 대신 and를 써도 된다 하지만 두번째 if 앞에 and를 쓰면 오류가 난다\n",
    "\n",
    "com_t4_2=[i for i in range(20) if i%2==0 and i%3==0] \n",
    "print('and : ',com_t4_2)\n",
    "\n",
    "# or은 한 if문으로 묶어주지 않으면 and로 인식을 한다\n",
    "\n",
    "com_t4_3=[j for j in range(20) if j%2==0 or j%3==0]\n",
    "print('or : ',com_t4_3)"
   ]
  },
  {
   "cell_type": "code",
   "execution_count": 17,
   "metadata": {},
   "outputs": [
    {
     "ename": "SyntaxError",
     "evalue": "invalid syntax (<ipython-input-17-1fe7df4176e6>, line 1)",
     "output_type": "error",
     "traceback": [
      "\u001b[1;36m  File \u001b[1;32m\"<ipython-input-17-1fe7df4176e6>\"\u001b[1;36m, line \u001b[1;32m1\u001b[0m\n\u001b[1;33m    com_t4_1_re=[i for i in range(20) if i%2==0 and if i%3==0] # or과 다르게 and를 쓰면 오류가 난다\u001b[0m\n\u001b[1;37m                                                     ^\u001b[0m\n\u001b[1;31mSyntaxError\u001b[0m\u001b[1;31m:\u001b[0m invalid syntax\n"
     ]
    }
   ],
   "source": [
    "# 두번째 if 앞에 and를 쓰면 오류가 난다\n",
    "\n",
    "com_t4_1_re=[i for i in range(20) if i%2==0 and if i%3==0]\n",
    "print(com_t4_1_re)"
   ]
  },
  {
   "cell_type": "code",
   "execution_count": 25,
   "metadata": {},
   "outputs": [
    {
     "name": "stdout",
     "output_type": "stream",
     "text": [
      "[0, 1, 2, 3, None, 5, 6, 7, 8, None]\n"
     ]
    }
   ],
   "source": [
    "# 예제5 if문 else\n",
    "\n",
    "li_t5=[]\n",
    "for i in range(10):\n",
    "    if i==4 or i==9:\n",
    "        li_t5.append(None)\n",
    "    else:\n",
    "        li_t5.append(i)\n",
    "print(li_t5)"
   ]
  },
  {
   "cell_type": "code",
   "execution_count": 29,
   "metadata": {},
   "outputs": [
    {
     "ename": "SyntaxError",
     "evalue": "invalid syntax (<ipython-input-29-aeb5f85f1d42>, line 1)",
     "output_type": "error",
     "traceback": [
      "\u001b[1;36m  File \u001b[1;32m\"<ipython-input-29-aeb5f85f1d42>\"\u001b[1;36m, line \u001b[1;32m1\u001b[0m\n\u001b[1;33m    com_t5_1=[i for i in range(10) if i==4 and i==9 else None]\u001b[0m\n\u001b[1;37m                                                       ^\u001b[0m\n\u001b[1;31mSyntaxError\u001b[0m\u001b[1;31m:\u001b[0m invalid syntax\n"
     ]
    }
   ],
   "source": [
    "# 위에서 하던 방법대로 else를 쓰면 오류가 난다\n",
    "\n",
    "com_t5_1=[i for i in range(10) if i==4 and i==9 else None] \n",
    "print(com_t5_1)"
   ]
  },
  {
   "cell_type": "code",
   "execution_count": 31,
   "metadata": {},
   "outputs": [
    {
     "name": "stdout",
     "output_type": "stream",
     "text": [
      "[0, 1, 2, 3, None, 5, 6, 7, 8, None]\n"
     ]
    }
   ],
   "source": [
    "# 예제5 if문 else comprehension\n",
    "\n",
    "com_t5_2=[i if i!=4 and i!=9 else None for i in range(10)]\n",
    "# i가 4 또는 9가 아니라면 i를 append 하고 4 또는 9라면 None을 append해라\n",
    "print(com_t5_2)"
   ]
  },
  {
   "cell_type": "code",
   "execution_count": 2,
   "metadata": {},
   "outputs": [
    {
     "name": "stdout",
     "output_type": "stream",
     "text": [
      "0 1\n",
      "0 2\n",
      "0 3\n",
      "1 1\n",
      "1 2\n",
      "1 3\n",
      "2 1\n",
      "2 2\n",
      "2 3\n"
     ]
    }
   ],
   "source": [
    "# 예제6 다중 for문\n",
    "\n",
    "li_t6=[]\n",
    "for i in range(3):\n",
    "    for j in range(1,4):\n",
    "        print(i,j)"
   ]
  },
  {
   "cell_type": "code",
   "execution_count": 7,
   "metadata": {},
   "outputs": [
    {
     "name": "stdout",
     "output_type": "stream",
     "text": [
      "[(0, 1), (0, 2), (0, 3), (1, 1), (1, 2), (1, 3), (2, 1), (2, 2), (2, 3)]\n"
     ]
    }
   ],
   "source": [
    "# 예제6 다중 for문 comprehension\n",
    "\n",
    "com_t6=[(i,j) for i in range(3) for j in range(1,4)]\n",
    "print(com_t6)"
   ]
  },
  {
   "cell_type": "code",
   "execution_count": 8,
   "metadata": {},
   "outputs": [
    {
     "ename": "SyntaxError",
     "evalue": "invalid syntax (<ipython-input-8-099f6241b742>, line 3)",
     "output_type": "error",
     "traceback": [
      "\u001b[1;36m  File \u001b[1;32m\"<ipython-input-8-099f6241b742>\"\u001b[1;36m, line \u001b[1;32m3\u001b[0m\n\u001b[1;33m    com_t6=[i,j for i in range(3) for j in range(1,4)]\u001b[0m\n\u001b[1;37m                  ^\u001b[0m\n\u001b[1;31mSyntaxError\u001b[0m\u001b[1;31m:\u001b[0m invalid syntax\n"
     ]
    }
   ],
   "source": [
    "# 예제6 다중 for문 comprehension\n",
    "\n",
    "com_t6=[i,j for i in range(3) for j in range(1,4)]\n",
    "# i,j를 괄호로 묶지 않으면 오류가 난다\n",
    "print(com_t6)"
   ]
  },
  {
   "cell_type": "code",
   "execution_count": 9,
   "metadata": {},
   "outputs": [],
   "source": [
    "# 연습\n",
    "# 숫자 리스트를 입력하면 각각의 숫자가 짝수인지 홀수인지를 출력하는 함수 생성\n",
    "\n",
    "def Ev_Od(n):\n",
    "    result=['Even' if i%2==0 else 'Odd' for i in n]\n",
    "    return result"
   ]
  },
  {
   "cell_type": "code",
   "execution_count": 10,
   "metadata": {},
   "outputs": [
    {
     "name": "stdout",
     "output_type": "stream",
     "text": [
      "['Odd', 'Even', 'Odd', 'Even']\n"
     ]
    }
   ],
   "source": [
    "n=[1,2,3,4]\n",
    "print(Ev_Od(n))"
   ]
  }
 ],
 "metadata": {
  "kernelspec": {
   "display_name": "Python 3",
   "language": "python",
   "name": "python3"
  },
  "language_info": {
   "codemirror_mode": {
    "name": "ipython",
    "version": 3
   },
   "file_extension": ".py",
   "mimetype": "text/x-python",
   "name": "python",
   "nbconvert_exporter": "python",
   "pygments_lexer": "ipython3",
   "version": "3.7.3"
  }
 },
 "nbformat": 4,
 "nbformat_minor": 2
}
