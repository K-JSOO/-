{
 "cells": [
  {
   "cell_type": "markdown",
   "metadata": {},
   "source": [
    "# 1. Class\n",
    "- 쉽게 말해 똑같은 무언가를 계속 만들어내는 설계도라고 생각하면 된다  \n",
    "calss : 붕어빵 틀   \n",
    "object : 붕어빵"
   ]
  },
  {
   "cell_type": "code",
   "execution_count": 1,
   "metadata": {},
   "outputs": [
    {
     "data": {
      "text/plain": [
       "'\\n코드 : Image(경로\\\\파일명.확장자)\\nMarkdown : ![이미지이름](파일명.확장자)\\n- 이미지이름과 파일명 같은 필요 없다\\n- 주피터 노트북 파일과 파일명.확장자가 같은 경로에 있어야 한다\\n'"
      ]
     },
     "execution_count": 1,
     "metadata": {},
     "output_type": "execute_result"
    }
   ],
   "source": [
    "import numpy as np\n",
    "\n",
    "# 주피터 노트북에 이미지 삽입하는 패키지\n",
    "\n",
    "from IPython.display import Image \n",
    "\n",
    "'''\n",
    "코드 : Image(경로\\\\파일명.확장자)\n",
    "Markdown : ![이미지이름](파일명.확장자)\n",
    "- 이미지이름과 파일명 같은 필요 없다\n",
    "- 주피터 노트북 파일과 파일명.확장자가 같은 경로에 있어야 한다\n",
    "'''"
   ]
  },
  {
   "cell_type": "markdown",
   "metadata": {},
   "source": [
    "![ex_Image](붕어빵2.jpg)"
   ]
  },
  {
   "cell_type": "code",
   "execution_count": 2,
   "metadata": {},
   "outputs": [],
   "source": [
    "# 기본 class 구조\n",
    "\n",
    "class My_class:\n",
    "    pass # 구현되지 않음을 의미, 즉, 빈 클래스를 의미"
   ]
  },
  {
   "cell_type": "code",
   "execution_count": 3,
   "metadata": {},
   "outputs": [
    {
     "name": "stdout",
     "output_type": "stream",
     "text": [
      "<__main__.My_class object at 0x00000284E8F17B00>\n"
     ]
    }
   ],
   "source": [
    "test_a=My_class()\n",
    "print(test_a)"
   ]
  },
  {
   "cell_type": "code",
   "execution_count": 4,
   "metadata": {},
   "outputs": [
    {
     "name": "stdout",
     "output_type": "stream",
     "text": [
      "2\n",
      "6\n"
     ]
    }
   ],
   "source": [
    "# 클래스가 필요한 이유\n",
    "'''\n",
    "아래와 같이 누적으로 더해지는 함수를 만들고 실행하면 결과가 아래와 같이 \n",
    "나온다 하지만 기존 값은 유지하면서 기존값과는 무관한 새로운 값을 얻으려면\n",
    "새로운 함수가 필요하다 이렇게 필요한 수 만큼의 함수를 생성하는 것은 \n",
    "비효율적이다 따라서 클래스를 생성하여 효율적으로 관리하는 것이다\n",
    "'''\n",
    "\n",
    "f_num=0\n",
    "\n",
    "def test_sum(n):\n",
    "    global f_num\n",
    "    f_num+=n\n",
    "    return f_num\n",
    "\n",
    "print(test_sum(2))\n",
    "print(test_sum(4))"
   ]
  },
  {
   "cell_type": "code",
   "execution_count": 5,
   "metadata": {},
   "outputs": [
    {
     "name": "stdout",
     "output_type": "stream",
     "text": [
      "5\n",
      "6\n"
     ]
    }
   ],
   "source": [
    "# 기존값은 유지한 채로 무관한 새로운 값을 얻으려면 새로운 함수를 \n",
    "# 생성해야 한다\n",
    "\n",
    "f_num2=0\n",
    "\n",
    "def test_sum2(n):\n",
    "    global f_num2\n",
    "    f_num2+=n\n",
    "    return f_num2\n",
    "\n",
    "print(test_sum2(5))\n",
    "print(test_sum2(1))"
   ]
  },
  {
   "cell_type": "code",
   "execution_count": 6,
   "metadata": {},
   "outputs": [],
   "source": [
    "# class를 만들어서 사용하면 이렇게 함수를 계속 만들 필요가 없다\n",
    "\n",
    "class total_sum:\n",
    "    def __init__(self):\n",
    "        self.f_num=0\n",
    "            \n",
    "    def test_sum(self,n):\n",
    "        self.f_num+=n\n",
    "        return self.f_num"
   ]
  },
  {
   "cell_type": "code",
   "execution_count": 7,
   "metadata": {},
   "outputs": [
    {
     "name": "stdout",
     "output_type": "stream",
     "text": [
      "2\n",
      "8\n",
      "8\n",
      "17\n"
     ]
    }
   ],
   "source": [
    "t_a=total_sum()\n",
    "t_a2=total_sum()\n",
    "\n",
    "print(t_a.test_sum(2))\n",
    "print(t_a.test_sum(6))\n",
    "print(t_a2.test_sum(8))\n",
    "print(t_a2.test_sum(9))"
   ]
  },
  {
   "cell_type": "code",
   "execution_count": 8,
   "metadata": {},
   "outputs": [],
   "source": [
    "# 위의 total_sum의 클래스를 이용하여 사칙연산(asmd) 클래스 생성\n",
    "\n",
    "class asmd:\n",
    "    def input_num(self,n1,n2):\n",
    "        self.n1=n1\n",
    "        self.n2=n2\n",
    "        \n",
    "    def add(self):\n",
    "        res=self.n1+self.n2\n",
    "        return res\n",
    "    \n",
    "    def sub(self):\n",
    "        res=self.n1-self.n2\n",
    "        return res\n",
    "    \n",
    "    def mul(self):\n",
    "        res=self.n1*self.n2\n",
    "        return res\n",
    "    \n",
    "    def div(self):\n",
    "        res=self.n1/self.n2\n",
    "        return res"
   ]
  },
  {
   "cell_type": "code",
   "execution_count": 9,
   "metadata": {},
   "outputs": [
    {
     "name": "stdout",
     "output_type": "stream",
     "text": [
      "9\n",
      "-3\n",
      "18\n",
      "0.5\n"
     ]
    }
   ],
   "source": [
    "a=asmd()\n",
    "a.input_num(3,6)\n",
    "\n",
    "print(a.add())\n",
    "print(a.sub())\n",
    "print(a.mul())\n",
    "print(a.div())"
   ]
  },
  {
   "cell_type": "markdown",
   "metadata": {},
   "source": [
    "![image2](t_1.png)"
   ]
  },
  {
   "cell_type": "markdown",
   "metadata": {},
   "source": [
    "# 2. __init__\n",
    "- 초기화자 : 객체가 생성될 때 자동으로 호출되는 메소드로 객체에서 사용할 초기값들을 초기화한다                                                      \n",
    "- 생성자라고도 하는데 엄밀히 말하면 초기화자라고 한다"
   ]
  },
  {
   "cell_type": "code",
   "execution_count": 10,
   "metadata": {},
   "outputs": [],
   "source": [
    "# 생성자 기본\n",
    "\n",
    "def __init__(self):\n",
    "    self.n='Hello'"
   ]
  },
  {
   "cell_type": "code",
   "execution_count": 11,
   "metadata": {},
   "outputs": [],
   "source": [
    "# 위에서 생성한 asmd 클래스에 생성자 추가\n",
    "\n",
    "class asmd2:\n",
    "    def __init__(self,n1,n2):\n",
    "        self.n1=n1\n",
    "        self.n2=n2\n",
    "        \n",
    "    def add(self):\n",
    "        res=self.n1+self.n2\n",
    "        return res\n",
    "    \n",
    "    def sub(self):\n",
    "        res=self.n1-self.n2\n",
    "        return res\n",
    "    \n",
    "    def mul(self):\n",
    "        res=self.n1*self.n2\n",
    "        return res\n",
    "    \n",
    "    def div(self):\n",
    "        res=self.n1/self.n2\n",
    "        return res"
   ]
  },
  {
   "cell_type": "code",
   "execution_count": 12,
   "metadata": {},
   "outputs": [
    {
     "name": "stdout",
     "output_type": "stream",
     "text": [
      "12\n",
      "-2\n",
      "35\n",
      "0.7142857142857143\n"
     ]
    }
   ],
   "source": [
    "b=asmd2(5,7)\n",
    "\n",
    "print(b.add())\n",
    "print(b.sub())\n",
    "print(b.mul())\n",
    "print(b.div())"
   ]
  },
  {
   "cell_type": "code",
   "execution_count": 13,
   "metadata": {},
   "outputs": [],
   "source": [
    "# 예제 : 이름, 점수 출력하는 클래스 생성\n",
    "\n",
    "class student:\n",
    "    def __init__(self,name,math,kor,eng):\n",
    "        self.name=name\n",
    "        self.math=math\n",
    "        self.kor=kor\n",
    "        self.eng=eng\n",
    "        \n",
    "    def say_thing(self):\n",
    "        return '{}님의 수학점수는 {}점, 국어점수는 {}점, 영어점수는 {}점입니다'.format(self.name,self.math,self.kor,self.eng)"
   ]
  },
  {
   "cell_type": "code",
   "execution_count": 14,
   "metadata": {},
   "outputs": [
    {
     "name": "stdout",
     "output_type": "stream",
     "text": [
      "홍길동님의 수학점수는 85점, 국어점수는 100점, 영어점수는 45점입니다\n",
      "박영희님의 수학점수는 90점, 국어점수는 15점, 영어점수는 50점입니다\n"
     ]
    }
   ],
   "source": [
    "c=student('홍길동',85,100,45)\n",
    "c2=student('박영희',90,15,50)\n",
    "\n",
    "print(c.say_thing())\n",
    "print(c2.say_thing())"
   ]
  },
  {
   "cell_type": "markdown",
   "metadata": {},
   "source": [
    "# 3. 상속\n",
    "- 다른 클래스의 기능을 물려받는 기능                                           \n",
    "- 보통 기존 클래스를 변경하지 않고 기능을 추가하거나 기존 기능을 변경하려고 할 때 사용한다                                                                   \n",
    "- 기존 클래스가 라이브러리 형태로 제공되거나 수정이 허용되지 않을 때 상속을 사용해야 한다"
   ]
  },
  {
   "cell_type": "code",
   "execution_count": 15,
   "metadata": {},
   "outputs": [],
   "source": [
    "# 평균을 구하는 클래스 생성\n",
    "\n",
    "class asmd_mean(asmd2):\n",
    "    def avg(self):\n",
    "        res2=[self.n1,self.n2]\n",
    "        res=round(np.mean(res2),3)\n",
    "        return res"
   ]
  },
  {
   "cell_type": "code",
   "execution_count": 16,
   "metadata": {},
   "outputs": [
    {
     "name": "stdout",
     "output_type": "stream",
     "text": [
      "9\n",
      "3\n",
      "18\n",
      "2.0\n",
      "4.5\n"
     ]
    }
   ],
   "source": [
    "# 확인\n",
    "\n",
    "d=asmd_mean(6,3)\n",
    "\n",
    "print(d.add())\n",
    "print(d.sub())\n",
    "print(d.mul())\n",
    "print(d.div())\n",
    "print(d.avg())"
   ]
  },
  {
   "cell_type": "code",
   "execution_count": 17,
   "metadata": {},
   "outputs": [],
   "source": [
    "# 예제 : 입력받은 점수의 평균을 구하는 클래스 생성\n",
    "# class 자식 클래스(부모 클래스)\n",
    "\n",
    "class st_mul(student): # 상속하려는 클래스(부모 클래스)를 괄호에 적는다\n",
    "    def stu_mul(self):\n",
    "        res2=[self.math,self.kor,self.eng]\n",
    "        res=round(np.mean(res2),2)\n",
    "        return '{}의 평균점수는 {}입니다'.format(self.name,res)"
   ]
  },
  {
   "cell_type": "code",
   "execution_count": 18,
   "metadata": {},
   "outputs": [
    {
     "name": "stdout",
     "output_type": "stream",
     "text": [
      "김철수님의 수학점수는 55점, 국어점수는 90점, 영어점수는 85점입니다\n",
      "김철수의 평균점수는 76.67입니다\n"
     ]
    }
   ],
   "source": [
    "# 확인\n",
    "'''\n",
    "student 클래스의 모든 기능을 st_mul 클래스에서 사용할 수 있다\n",
    "'''\n",
    "\n",
    "e=st_mul('김철수',55,90,85)\n",
    "\n",
    "print(e.say_thing())\n",
    "print(e.stu_mul())"
   ]
  },
  {
   "cell_type": "markdown",
   "metadata": {},
   "source": [
    "# 4. 메소드 오버라이딩\n",
    "- 상속한 클래스(부모 클래스)에 있는 메소드를 같은 이름으로 다시 만드는 것이다\n",
    "- 메소드를 오버라이딩 하게 되면 부모클래스의 메소드 대신 오버라이딩한 메소드가 호출된다"
   ]
  },
  {
   "cell_type": "code",
   "execution_count": 19,
   "metadata": {},
   "outputs": [],
   "source": [
    "# asmd2 클래스의 div 함수 오버라이딩\n",
    "'''\n",
    "asmd2 클래스의 div는 분모가 0이되면 오류가 난다 따라서 오류가 아니라 0을 \n",
    "출력하게 코드를 수정해야 한다 \n",
    "'''\n",
    "\n",
    "class asmd_re(asmd2):\n",
    "    def div(self):\n",
    "        if self.n2 ==0:\n",
    "            return 0\n",
    "        else:\n",
    "            return self.n1/self.n2"
   ]
  },
  {
   "cell_type": "code",
   "execution_count": 20,
   "metadata": {},
   "outputs": [
    {
     "name": "stdout",
     "output_type": "stream",
     "text": [
      "6\n",
      "6\n",
      "0\n",
      "0\n"
     ]
    }
   ],
   "source": [
    "# 확인\n",
    "\n",
    "f=asmd_re(6,0)\n",
    "\n",
    "print(f.add())\n",
    "print(f.sub())\n",
    "print(f.mul())\n",
    "print(f.div())"
   ]
  },
  {
   "cell_type": "markdown",
   "metadata": {},
   "source": [
    "# 5. 클래스 변수"
   ]
  },
  {
   "cell_type": "code",
   "execution_count": 21,
   "metadata": {},
   "outputs": [],
   "source": [
    "# 예제\n",
    "\n",
    "class family:\n",
    "    lastname='김'"
   ]
  },
  {
   "cell_type": "code",
   "execution_count": 22,
   "metadata": {},
   "outputs": [
    {
     "data": {
      "text/plain": [
       "'김'"
      ]
     },
     "execution_count": 22,
     "metadata": {},
     "output_type": "execute_result"
    }
   ],
   "source": [
    "family.lastname"
   ]
  },
  {
   "cell_type": "code",
   "execution_count": 23,
   "metadata": {},
   "outputs": [
    {
     "name": "stdout",
     "output_type": "stream",
     "text": [
      "김\n"
     ]
    }
   ],
   "source": [
    "# 기존에 클래스를 출력하는데 사용하는 방법으로 사용해도 출력이 된다\n",
    "\n",
    "g=family()\n",
    "\n",
    "print(g.lastname)"
   ]
  },
  {
   "cell_type": "code",
   "execution_count": 24,
   "metadata": {},
   "outputs": [
    {
     "name": "stdout",
     "output_type": "stream",
     "text": [
      "박\n",
      "박\n"
     ]
    }
   ],
   "source": [
    "# lastname 바꾸기\n",
    "\n",
    "family.lastname='박'\n",
    "\n",
    "print(family.lastname)  # 클래스 변수를 변경하면 모든 클래스로 만든\n",
    "print(g.lastname)       # 객체값도 변경이 된다"
   ]
  }
 ],
 "metadata": {
  "kernelspec": {
   "display_name": "Python 3",
   "language": "python",
   "name": "python3"
  },
  "language_info": {
   "codemirror_mode": {
    "name": "ipython",
    "version": 3
   },
   "file_extension": ".py",
   "mimetype": "text/x-python",
   "name": "python",
   "nbconvert_exporter": "python",
   "pygments_lexer": "ipython3",
   "version": "3.7.3"
  }
 },
 "nbformat": 4,
 "nbformat_minor": 2
}
