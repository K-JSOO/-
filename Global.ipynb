{
 "cells": [
  {
   "cell_type": "markdown",
   "metadata": {},
   "source": [
    "# 1. 지역변수(local variable)\n",
    "- 지역변수: 함수 안에서 생성된 변수, 생성된 지역을 벗어나면 메모리가 삭제됨으로 외부에서 참조 할 수 없다"
   ]
  },
  {
   "cell_type": "code",
   "execution_count": 1,
   "metadata": {},
   "outputs": [],
   "source": [
    "# 지역변수를 이해하기 위한 함수 생성\n",
    "\n",
    "def test():\n",
    "    a=10"
   ]
  },
  {
   "cell_type": "code",
   "execution_count": 2,
   "metadata": {},
   "outputs": [
    {
     "ename": "NameError",
     "evalue": "name 'a' is not defined",
     "output_type": "error",
     "traceback": [
      "\u001b[1;31m---------------------------------------------------------------------------\u001b[0m",
      "\u001b[1;31mNameError\u001b[0m                                 Traceback (most recent call last)",
      "\u001b[1;32m<ipython-input-2-c0dd38db9076>\u001b[0m in \u001b[0;36m<module>\u001b[1;34m\u001b[0m\n\u001b[1;32m----> 1\u001b[1;33m \u001b[0mprint\u001b[0m\u001b[1;33m(\u001b[0m\u001b[0ma\u001b[0m\u001b[1;33m)\u001b[0m \u001b[1;31m# 함수에 사용한 a라는 변수는 함수안에서만 사용이 가능하다\u001b[0m\u001b[1;33m\u001b[0m\u001b[1;33m\u001b[0m\u001b[0m\n\u001b[0m\u001b[0;32m      2\u001b[0m          \u001b[1;31m# 따라서 print(a)를 할 경우 오류가 난다\u001b[0m\u001b[1;33m\u001b[0m\u001b[1;33m\u001b[0m\u001b[1;33m\u001b[0m\u001b[0m\n",
      "\u001b[1;31mNameError\u001b[0m: name 'a' is not defined"
     ]
    }
   ],
   "source": [
    "print(a) # 함수에 사용한 a라는 변수는 함수안에서만 사용이 가능하다\n",
    "         # 따라서 print(a)를 할 경우 오류가 난다"
   ]
  },
  {
   "cell_type": "code",
   "execution_count": 3,
   "metadata": {},
   "outputs": [
    {
     "name": "stdout",
     "output_type": "stream",
     "text": [
      "{'n': 2, 'm': 4}\n",
      "4\n"
     ]
    }
   ],
   "source": [
    "# 등록되어 있는 지역이름 확인\n",
    "\n",
    "def test_lo(n):\n",
    "    m=n+n\n",
    "    print(locals())\n",
    "    return m\n",
    "    \n",
    "print(test_lo(2))"
   ]
  },
  {
   "cell_type": "markdown",
   "metadata": {},
   "source": [
    "# 2. 전역변수(global vaiable)\n",
    "- 전역변수: 함수 밖의 전역공간에서 선언된 변수, 함수안에서는 번역변수의 값을 변경하지 못한다"
   ]
  },
  {
   "cell_type": "code",
   "execution_count": 4,
   "metadata": {},
   "outputs": [
    {
     "name": "stdout",
     "output_type": "stream",
     "text": [
      "5\n"
     ]
    }
   ],
   "source": [
    "# 전역변수를 이해하기 위한 함수 생성\n",
    "\n",
    "b=5\n",
    "\n",
    "def test2():\n",
    "    print(b)\n",
    "    \n",
    "test2() # 함수에서 선언된 값이 출력된다"
   ]
  },
  {
   "cell_type": "code",
   "execution_count": 5,
   "metadata": {},
   "outputs": [
    {
     "name": "stdout",
     "output_type": "stream",
     "text": [
      "10\n",
      "5\n"
     ]
    }
   ],
   "source": [
    "# 만약 함수안에서 값을 바꾼다면?\n",
    "\n",
    "c=5\n",
    "\n",
    "def test3():\n",
    "    c=10\n",
    "    return c\n",
    "\n",
    "print(test3()) # 함수를 호출하여c를 출력했을 때는 10이 나온다\n",
    "print(c)       # 그냥 c를 출력했을 때는 전역변수로 선언된 5가 나온다"
   ]
  },
  {
   "cell_type": "code",
   "execution_count": 6,
   "metadata": {},
   "outputs": [
    {
     "name": "stdout",
     "output_type": "stream",
     "text": [
      "10\n",
      "10\n"
     ]
    }
   ],
   "source": [
    "# 함수안에서 값을 바꾸고 싶을 때는 golbal을 쓰면 된다\n",
    "\n",
    "d=5\n",
    "\n",
    "def test4():\n",
    "    global d\n",
    "    d=10\n",
    "    return d\n",
    "\n",
    "print(test4())\n",
    "print(d)  # 전역변수로 선언된d가 함수안에서 수정되어 10이 나왔다"
   ]
  },
  {
   "cell_type": "code",
   "execution_count": 7,
   "metadata": {},
   "outputs": [
    {
     "name": "stdout",
     "output_type": "stream",
     "text": [
      "5\n",
      "5\n"
     ]
    }
   ],
   "source": [
    "# 함수안에서 전역변수를 선언하기\n",
    "\n",
    "def test5():\n",
    "    global e\n",
    "    e=5\n",
    "    return e\n",
    "\n",
    "print(test5()) \n",
    "print(e)    # 함수안에서 전역변수 선언이 가능하다"
   ]
  },
  {
   "cell_type": "code",
   "execution_count": 8,
   "metadata": {},
   "outputs": [
    {
     "data": {
      "text/plain": [
       "{'__name__': '__main__',\n",
       " '__doc__': 'Automatically created module for IPython interactive environment',\n",
       " '__package__': None,\n",
       " '__loader__': None,\n",
       " '__spec__': None,\n",
       " '__builtin__': <module 'builtins' (built-in)>,\n",
       " '__builtins__': <module 'builtins' (built-in)>,\n",
       " '_ih': ['',\n",
       "  '# 지역변수를 이해하기 위한 함수 생성\\n\\ndef test():\\n    a=10',\n",
       "  'print(a) # 함수에 사용한 a라는 변수는 함수안에서만 사용이 가능하다\\n         # 따라서 print(a)를 할 경우 오류가 난다',\n",
       "  '# 등록되어 있는 지역이름 확인\\n\\ndef test_lo(n):\\n    m=n+n\\n    print(locals())\\n    return m\\n    \\nprint(test_lo(2))',\n",
       "  '# 전역변수를 이해하기 위한 함수 생성\\n\\nb=5\\n\\ndef test2():\\n    print(b)\\n    \\ntest2() # 함수에서 선언된 값이 출력된다',\n",
       "  '# 만약 함수안에서 값을 바꾼다면?\\n\\nc=5\\n\\ndef test3():\\n    c=10\\n    return c\\n\\nprint(test3()) # 함수를 호출하여c를 출력했을 때는 10이 나온다\\nprint(c)       # 그냥 c를 출력했을 때는 전역변수로 선언된 5가 나온다',\n",
       "  '# 함수안에서 값을 바꾸고 싶을 때는 golbal을 쓰면 된다\\n\\nd=5\\n\\ndef test4():\\n    global d\\n    d=10\\n    return d\\n\\nprint(test4())\\nprint(d)  # 전역변수로 선언된d가 함수안에서 수정되어 10이 나왔다',\n",
       "  '# 함수안에서 전역변수를 선언하기\\n\\ndef test5():\\n    global e\\n    e=5\\n    return e\\n\\nprint(test5()) \\nprint(e)    # 함수안에서 전역변수 선언이 가능하다',\n",
       "  \"# 등록되어 있는 전역이름 확인\\n\\ntest_glo='This is test'\\nglobals()\"],\n",
       " '_oh': {},\n",
       " '_dh': ['C:\\\\Users\\\\user\\\\Desktop\\\\기타\\\\practice'],\n",
       " 'In': ['',\n",
       "  '# 지역변수를 이해하기 위한 함수 생성\\n\\ndef test():\\n    a=10',\n",
       "  'print(a) # 함수에 사용한 a라는 변수는 함수안에서만 사용이 가능하다\\n         # 따라서 print(a)를 할 경우 오류가 난다',\n",
       "  '# 등록되어 있는 지역이름 확인\\n\\ndef test_lo(n):\\n    m=n+n\\n    print(locals())\\n    return m\\n    \\nprint(test_lo(2))',\n",
       "  '# 전역변수를 이해하기 위한 함수 생성\\n\\nb=5\\n\\ndef test2():\\n    print(b)\\n    \\ntest2() # 함수에서 선언된 값이 출력된다',\n",
       "  '# 만약 함수안에서 값을 바꾼다면?\\n\\nc=5\\n\\ndef test3():\\n    c=10\\n    return c\\n\\nprint(test3()) # 함수를 호출하여c를 출력했을 때는 10이 나온다\\nprint(c)       # 그냥 c를 출력했을 때는 전역변수로 선언된 5가 나온다',\n",
       "  '# 함수안에서 값을 바꾸고 싶을 때는 golbal을 쓰면 된다\\n\\nd=5\\n\\ndef test4():\\n    global d\\n    d=10\\n    return d\\n\\nprint(test4())\\nprint(d)  # 전역변수로 선언된d가 함수안에서 수정되어 10이 나왔다',\n",
       "  '# 함수안에서 전역변수를 선언하기\\n\\ndef test5():\\n    global e\\n    e=5\\n    return e\\n\\nprint(test5()) \\nprint(e)    # 함수안에서 전역변수 선언이 가능하다',\n",
       "  \"# 등록되어 있는 전역이름 확인\\n\\ntest_glo='This is test'\\nglobals()\"],\n",
       " 'Out': {},\n",
       " 'get_ipython': <bound method InteractiveShell.get_ipython of <ipykernel.zmqshell.ZMQInteractiveShell object at 0x00000204042884A8>>,\n",
       " 'exit': <IPython.core.autocall.ZMQExitAutocall at 0x204061fa668>,\n",
       " 'quit': <IPython.core.autocall.ZMQExitAutocall at 0x204061fa668>,\n",
       " '_': '',\n",
       " '__': '',\n",
       " '___': '',\n",
       " '_i': '# 함수안에서 전역변수를 선언하기\\n\\ndef test5():\\n    global e\\n    e=5\\n    return e\\n\\nprint(test5()) \\nprint(e)    # 함수안에서 전역변수 선언이 가능하다',\n",
       " '_ii': '# 함수안에서 값을 바꾸고 싶을 때는 golbal을 쓰면 된다\\n\\nd=5\\n\\ndef test4():\\n    global d\\n    d=10\\n    return d\\n\\nprint(test4())\\nprint(d)  # 전역변수로 선언된d가 함수안에서 수정되어 10이 나왔다',\n",
       " '_iii': '# 만약 함수안에서 값을 바꾼다면?\\n\\nc=5\\n\\ndef test3():\\n    c=10\\n    return c\\n\\nprint(test3()) # 함수를 호출하여c를 출력했을 때는 10이 나온다\\nprint(c)       # 그냥 c를 출력했을 때는 전역변수로 선언된 5가 나온다',\n",
       " '_i1': '# 지역변수를 이해하기 위한 함수 생성\\n\\ndef test():\\n    a=10',\n",
       " 'test': <function __main__.test()>,\n",
       " '_i2': 'print(a) # 함수에 사용한 a라는 변수는 함수안에서만 사용이 가능하다\\n         # 따라서 print(a)를 할 경우 오류가 난다',\n",
       " '_i3': '# 등록되어 있는 지역이름 확인\\n\\ndef test_lo(n):\\n    m=n+n\\n    print(locals())\\n    return m\\n    \\nprint(test_lo(2))',\n",
       " 'test_lo': <function __main__.test_lo(n)>,\n",
       " '_i4': '# 전역변수를 이해하기 위한 함수 생성\\n\\nb=5\\n\\ndef test2():\\n    print(b)\\n    \\ntest2() # 함수에서 선언된 값이 출력된다',\n",
       " 'b': 5,\n",
       " 'test2': <function __main__.test2()>,\n",
       " '_i5': '# 만약 함수안에서 값을 바꾼다면?\\n\\nc=5\\n\\ndef test3():\\n    c=10\\n    return c\\n\\nprint(test3()) # 함수를 호출하여c를 출력했을 때는 10이 나온다\\nprint(c)       # 그냥 c를 출력했을 때는 전역변수로 선언된 5가 나온다',\n",
       " 'c': 5,\n",
       " 'test3': <function __main__.test3()>,\n",
       " '_i6': '# 함수안에서 값을 바꾸고 싶을 때는 golbal을 쓰면 된다\\n\\nd=5\\n\\ndef test4():\\n    global d\\n    d=10\\n    return d\\n\\nprint(test4())\\nprint(d)  # 전역변수로 선언된d가 함수안에서 수정되어 10이 나왔다',\n",
       " 'd': 10,\n",
       " 'test4': <function __main__.test4()>,\n",
       " '_i7': '# 함수안에서 전역변수를 선언하기\\n\\ndef test5():\\n    global e\\n    e=5\\n    return e\\n\\nprint(test5()) \\nprint(e)    # 함수안에서 전역변수 선언이 가능하다',\n",
       " 'test5': <function __main__.test5()>,\n",
       " 'e': 5,\n",
       " '_i8': \"# 등록되어 있는 전역이름 확인\\n\\ntest_glo='This is test'\\nglobals()\",\n",
       " 'test_glo': 'This is test'}"
      ]
     },
     "execution_count": 8,
     "metadata": {},
     "output_type": "execute_result"
    }
   ],
   "source": [
    "# 등록되어 있는 전역이름 확인\n",
    "\n",
    "test_glo='This is test'\n",
    "globals()"
   ]
  },
  {
   "cell_type": "code",
   "execution_count": 9,
   "metadata": {},
   "outputs": [
    {
     "name": "stdout",
     "output_type": "stream",
     "text": [
      "test_list1 : [1, 2, 3, 4, 5]\n",
      "test_list2 : [6, 7, 8, 9, 10]\n",
      "test_list3 : [11, 12, 13, 14, 15]\n",
      "test_list4 : [16, 17, 18, 19, 20]\n"
     ]
    }
   ],
   "source": [
    "# 전역변수 예제: globals()을 사용하여 여러개의 빈 리스트 생성하기\n",
    "\n",
    "for i in range(1,5):\n",
    "    globals()['test_list{}'.format(i)]=[]\n",
    "    \n",
    "    for j in range(1,21):\n",
    "        if i==1 and j<6:\n",
    "            globals()['test_list{}'.format(i)].append(j)\n",
    "        if i==2 and  5<j<11:\n",
    "            globals()['test_list{}'.format(i)].append(j)\n",
    "        if i==3 and 10<j<16:\n",
    "            globals()['test_list{}'.format(i)].append(j)\n",
    "        if i==4 and j>15:\n",
    "            globals()['test_list{}'.format(i)].append(j)\n",
    "\n",
    "for i in range(1,5):\n",
    "    print('test_list{}'.format(i),':',globals()['test_list{}'.format(i)])"
   ]
  },
  {
   "cell_type": "markdown",
   "metadata": {},
   "source": [
    "# 3. 중첩함수에서의 전역함수?"
   ]
  },
  {
   "cell_type": "code",
   "execution_count": 10,
   "metadata": {},
   "outputs": [
    {
     "name": "stdout",
     "output_type": "stream",
     "text": [
      "This is test\n"
     ]
    }
   ],
   "source": [
    "# 중첩함수 생성\n",
    "\n",
    "def test_1():\n",
    "    a1='This is test'\n",
    "    \n",
    "    def test_2():\n",
    "        return a1   # test_1 함수의 지역변수를 사용\n",
    "    \n",
    "    return test_2()\n",
    "        \n",
    "print(test_1())"
   ]
  },
  {
   "cell_type": "code",
   "execution_count": 11,
   "metadata": {},
   "outputs": [
    {
     "name": "stdout",
     "output_type": "stream",
     "text": [
      "test_3\n"
     ]
    }
   ],
   "source": [
    "# 아래와 같이 중첩 함수에서 지역함수 변경 -> 변경 안됨\n",
    "\n",
    "def test_3():\n",
    "    a2='test_3'  # a2 지역변수 생성\n",
    "    \n",
    "    def test_4():\n",
    "        a2='test_4' # test_4 함수안에 새로운 a2라는 지역변수를 생성\n",
    "    \n",
    "    test_4()\n",
    "    print(a2)\n",
    "    \n",
    "test_3()"
   ]
  },
  {
   "cell_type": "code",
   "execution_count": 12,
   "metadata": {},
   "outputs": [
    {
     "name": "stdout",
     "output_type": "stream",
     "text": [
      "test_4\n"
     ]
    }
   ],
   "source": [
    "'''\n",
    "위의 코드와 다른점은 print의 위치이다 print가 아래 코드처럼 위치하면 test_4\n",
    "함수에서 변경된 a2의 값인 test_4을 출력한다 반면에 test_3 함수에 print가 \n",
    "위치하게 되면 test_3 함수의 a2는 test_3 함수안에서만 사용가능한 지역변수가\n",
    "되어버리기 때문에 test_3 함수의 a2의 값인 test_3이 출력된다\n",
    "'''\n",
    "\n",
    "def test_3():\n",
    "    a2='test_3'\n",
    "    \n",
    "    def test_4():\n",
    "        a2='test_4'\n",
    "        print(a2)\n",
    "        \n",
    "    test_4()\n",
    "    \n",
    "    \n",
    "test_3()"
   ]
  },
  {
   "cell_type": "code",
   "execution_count": 13,
   "metadata": {},
   "outputs": [
    {
     "name": "stdout",
     "output_type": "stream",
     "text": [
      "test_6\n"
     ]
    }
   ],
   "source": [
    "# 중첩함수에서 지역변수를 변경하려면? -> nonlocal사용\n",
    "'''\n",
    "global과의 차이?\n",
    "- global: 전역 영역의 변수를 찾음 \n",
    "- nonlocal: 가장 가까운 영역에서부터 변수 찾음\n",
    "  (아래의 예시에서는 test_6 함수에서 가장 가까운 영역은 test_5이다 )\n",
    "'''\n",
    "def test_5():\n",
    "    a3='test5'\n",
    "    \n",
    "    def test_6():\n",
    "        nonlocal a3  # test_5의 함수의 지역변수(a3)를 사용하겠다\n",
    "        a3='test_6'\n",
    "    \n",
    "    test_6()\n",
    "    print(a3)\n",
    "    \n",
    "test_5()"
   ]
  },
  {
   "cell_type": "code",
   "execution_count": 14,
   "metadata": {},
   "outputs": [
    {
     "name": "stdout",
     "output_type": "stream",
     "text": [
      "test_9:  Hi World!\n",
      "test_9:  Hello World!\n",
      "\n",
      "\n",
      "test_8:  Hi World!\n",
      "test_8:  Hello World!\n",
      "\n",
      "\n",
      "test_7:  Hello\n",
      "test_7:  Hello World!\n"
     ]
    }
   ],
   "source": [
    "# nonlocal 예제 : 3중 중첩 함수에서 nonlocal의 순서\n",
    "\n",
    "def test_7():\n",
    "    a4='Hello'\n",
    "    a4_1='Hello'\n",
    "    a5='World!'\n",
    "    \n",
    "    def test_8():\n",
    "        a4='Hi'\n",
    "        \n",
    "        def test_9():\n",
    "            nonlocal a4    # test_8의 지역변수\n",
    "            nonlocal a5   # test_7의 지역변수\n",
    "            \n",
    "            a4=a4+' '+a5\n",
    "            a5=a4_1+' '+a5\n",
    "            \n",
    "            print('test_9: ',a4)\n",
    "            print('test_9: ',a5)\n",
    "            \n",
    "        test_9()\n",
    "        print('\\n')\n",
    "        print('test_8: ',a4)\n",
    "        print('test_8: ',a5)\n",
    "        \n",
    "    test_8()\n",
    "    print('\\n')\n",
    "    print('test_7: ',a4)  # test_8에서 a4를 변경해서인지 test_7에서는\n",
    "    print('test_7: ',a5)  # test_9에서 선언한 a4가 출력되지않고 test_7\n",
    "                          # 에서 a4로 선언한 값이 출력됐다\n",
    "test_7()"
   ]
  },
  {
   "cell_type": "code",
   "execution_count": 15,
   "metadata": {
    "scrolled": true
   },
   "outputs": [
    {
     "name": "stdout",
     "output_type": "stream",
     "text": [
      "Hello World!\n"
     ]
    }
   ],
   "source": [
    "# 중첩함수에서의 global\n",
    "'''\n",
    "함수가 얼마나 중첩되었는지와 상관없다면 global을 사용한다\n",
    "-> 무조건 전역변수가 됨\n",
    "'''\n",
    "\n",
    "a6='Hello'\n",
    "\n",
    "def test_10():\n",
    "    a6='goodbye'\n",
    "    a7='World!'\n",
    "    \n",
    "    def test_11():\n",
    "        a6='Hi'\n",
    "        \n",
    "        def test_12():\n",
    "            global a6\n",
    "            a6=a6+' '+a7\n",
    "            print(a6)\n",
    "            \n",
    "        test_12()\n",
    "    test_11()\n",
    "\n",
    "test_10()"
   ]
  }
 ],
 "metadata": {
  "kernelspec": {
   "display_name": "Python 3",
   "language": "python",
   "name": "python3"
  },
  "language_info": {
   "codemirror_mode": {
    "name": "ipython",
    "version": 3
   },
   "file_extension": ".py",
   "mimetype": "text/x-python",
   "name": "python",
   "nbconvert_exporter": "python",
   "pygments_lexer": "ipython3",
   "version": "3.7.3"
  }
 },
 "nbformat": 4,
 "nbformat_minor": 2
}
